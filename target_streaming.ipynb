{
 "cells": [
  {
   "cell_type": "code",
   "execution_count": 1,
   "metadata": {
    "collapsed": true
   },
   "outputs": [],
   "source": [
    "#Importing Library and setting environment path\n",
    "import os\n",
    "import sys\n",
    "#set the path \n",
    "os.environ['SPARK_HOME'] = \"C:/spark-2.0.2-bin-hadoop2.7\"\n",
    "sys.path.append(\"C:/park-2.0.2-bin-hadoop2.7/bin\")\n",
    "sys.path.append(\"C:/spark-2.0.2-bin-hadoop2.7/python\")\n",
    "sys.path.append(\"C:/spark-2.0.2-bin-hadoop2.7/python/pyspark\")\n",
    "sys.path.append(\"C:/spark-2.0.2-bin-hadoop2.7/python/pyspark/lib\")\n",
    "sys.path.append(\"C:/spark-2.0.2-bin-hadoop2.7/python/pyspark/lib/pyspark.zip\")\n",
    "sys.path.append(\"C:/spark-2.0.2-bin-hadoop2.7/python/pyspark/lib/py4j-0.10.3-src.zip\")\n",
    "sys.path.append(\"C:/Program Files/Java/jre1.8.0_77/bin\")"
   ]
  },
  {
   "cell_type": "code",
   "execution_count": 2,
   "metadata": {
    "collapsed": true
   },
   "outputs": [],
   "source": [
    "from googlefinance import getQuotes\n",
    "import json\n",
    "import time\n",
    "import datetime \n",
    "from yahoo_finance import Share\n",
    "from datetime import timedelta"
   ]
  },
  {
   "cell_type": "code",
   "execution_count": 3,
   "metadata": {
    "collapsed": true
   },
   "outputs": [],
   "source": [
    "from pyspark import SparkContext\n",
    "from pyspark.streaming import StreamingContext\n",
    "from pyspark.sql import SQLContext\n",
    "from pyspark.sql.functions import desc\n",
    "sc = SparkContext()\n",
    "sqlContext = SQLContext(sc)"
   ]
  },
  {
   "cell_type": "code",
   "execution_count": 4,
   "metadata": {
    "collapsed": false
   },
   "outputs": [],
   "source": [
    "import numpy as np \n",
    "import plotly.plotly as py  \n",
    "import plotly.tools as tls   \n",
    "import plotly.graph_objs as go"
   ]
  },
  {
   "cell_type": "code",
   "execution_count": 5,
   "metadata": {
    "collapsed": false
   },
   "outputs": [],
   "source": [
    "import plotly \n",
    "plotly.tools.set_credentials_file(username='xinyingdu', api_key='Ssz6FAoJ34JBnxEy7ltn')"
   ]
  },
  {
   "cell_type": "code",
   "execution_count": 6,
   "metadata": {
    "collapsed": false
   },
   "outputs": [
    {
     "name": "stdout",
     "output_type": "stream",
     "text": [
      "{'api_key': 'Ssz6FAoJ34JBnxEy7ltn', 'proxy_password': '', 'proxy_username': '', 'username': 'xinyingdu', 'stream_ids': []}\n"
     ]
    }
   ],
   "source": [
    "stream_ids = tls.get_credentials_file()\n",
    "print (stream_ids)"
   ]
  },
  {
   "cell_type": "code",
   "execution_count": 7,
   "metadata": {
    "collapsed": false
   },
   "outputs": [],
   "source": [
    "# Get stream id from stream id list \n",
    "stream_id_tgt = \"shv8nf2qzp\"\n",
    "\n",
    "# Make instance of stream id object \n",
    "stream_tgt = go.Stream(\n",
    "    token=stream_id_tgt,  # link stream id to 'token' key\n",
    "    maxpoints=80      # keep a max of 80 pts on screen\n",
    ")\n",
    "stream_tgt = dict(token=stream_id_tgt, maxpoints=60)"
   ]
  },
  {
   "cell_type": "code",
   "execution_count": 8,
   "metadata": {
    "collapsed": false
   },
   "outputs": [],
   "source": [
    "# Get stream id from stream id list \n",
    "stream_id_ma_tgt = \"jttpay9opm\"\n",
    "\n",
    "# Make instance of stream id object \n",
    "stream_tgt_ma = go.Stream(\n",
    "    token=stream_id_ma_tgt,  # link stream id to 'token' key\n",
    "    maxpoints=80      # keep a max of 80 pts on screen\n",
    ")\n",
    "stream_tgt_ma = dict(token=stream_id_ma_tgt, maxpoints=60)"
   ]
  },
  {
   "cell_type": "code",
   "execution_count": 9,
   "metadata": {
    "collapsed": false
   },
   "outputs": [
    {
     "data": {
      "text/html": [
       "<iframe id=\"igraph\" scrolling=\"no\" style=\"border:none;\" seamless=\"seamless\" src=\"https://plot.ly/~xinyingdu/2.embed\" height=\"525px\" width=\"100%\"></iframe>"
      ],
      "text/plain": [
       "<plotly.tools.PlotlyDisplay object>"
      ]
     },
     "execution_count": 9,
     "metadata": {},
     "output_type": "execute_result"
    }
   ],
   "source": [
    "trace1 = go.Scatter(x=[], y=[], stream=stream_tgt, name='Stock Price')\n",
    "trace2 = go.Scatter(x=[], y=[], stream=stream_tgt_ma, yaxis='y2', name='Moving Average', marker=dict(color='rgb(148, 103, 189)'))\n",
    "\n",
    "data = go.Data([trace1,trace2])\n",
    "layout = go.Layout(\n",
    "    title='Target Stock Price',\n",
    "    yaxis=dict(\n",
    "        title='Stock price'\n",
    "    ),\n",
    "    yaxis2=dict(\n",
    "        title='50 period moving average',\n",
    "        titlefont=dict(\n",
    "            color='rgb(148, 103, 189)'\n",
    "        ),\n",
    "        tickfont=dict(\n",
    "            color='rgb(148, 103, 189)'\n",
    "        ),\n",
    "        overlaying='y',\n",
    "        side='right'\n",
    "    )\n",
    ")\n",
    "\n",
    "fig = go.Figure(data=data, layout=layout)\n",
    "\n",
    "# Send fig to Plotly, initialize streaming plot, open new tab\n",
    "py.iplot(fig, filename='target-stock-streaming')"
   ]
  },
  {
   "cell_type": "code",
   "execution_count": 10,
   "metadata": {
    "collapsed": false
   },
   "outputs": [],
   "source": [
    "target = Share('TGT')"
   ]
  },
  {
   "cell_type": "code",
   "execution_count": null,
   "metadata": {
    "collapsed": true
   },
   "outputs": [],
   "source": [
    "s_tgt = py.Stream(stream_id = stream_id_tgt)\n",
    "s_ma = py.Stream(stream_id = stream_id_ma_tgt)"
   ]
  },
  {
   "cell_type": "code",
   "execution_count": null,
   "metadata": {
    "collapsed": false
   },
   "outputs": [],
   "source": [
    "s_tgt.open()\n",
    "s_ma.open()\n",
    "i = 1\n",
    "while True:\n",
    "\n",
    "    # for target\n",
    "    target = getQuotes('TGT')[0]['LastTradePrice']\n",
    "    x = datetime.datetime.now()#amazon.get_trade_datetime()\n",
    "    y = target\n",
    "    \n",
    "    # for target\n",
    "    target_yield = getQuotes('TGT')[0]['Yield']\n",
    "    x1 = datetime.datetime.now() #amazon.get_trade_datetime()\n",
    "    y1 = target_yield\n",
    "        \n",
    "    # Send data to your plot\n",
    "    s_tgt.write(dict(x=x, y=y))\n",
    "    s_ma.write(dict(x=x1, y=y1)) \n",
    "            \n",
    "    time.sleep(1)  # plot a point every second\n",
    "    i+=1\n",
    "# Close the stream when done plotting\n",
    "s_tgt.close()\n",
    "s_ma.close()"
   ]
  }
 ],
 "metadata": {
  "anaconda-cloud": {},
  "kernelspec": {
   "display_name": "Python [conda root]",
   "language": "python",
   "name": "conda-root-py"
  },
  "language_info": {
   "codemirror_mode": {
    "name": "ipython",
    "version": 3
   },
   "file_extension": ".py",
   "mimetype": "text/x-python",
   "name": "python",
   "nbconvert_exporter": "python",
   "pygments_lexer": "ipython3",
   "version": "3.5.2"
  }
 },
 "nbformat": 4,
 "nbformat_minor": 1
}
