{
 "cells": [
  {
   "cell_type": "markdown",
   "metadata": {
    "nbpresent": {
     "id": "609343c9-50d9-455e-a621-0cbdcb3ee9d8"
    }
   },
   "source": [
    "# <div align=\"center\"> Part 3 : Extracting historical stock prices and combining the tweets information</div>"
   ]
  },
  {
   "cell_type": "markdown",
   "metadata": {
    "nbpresent": {
     "id": "39c4f2d2-0338-44cd-9a2a-1d0aad72e635"
    }
   },
   "source": [
    "# Table of Content\n",
    "###  1 . [Historical Stock Prices](#sec1)\n",
    "> #### 1.1 . [Introduction to Google Finance](#sec1.1)\n",
    "> #### 1.2 . [Extract Stock Data](#sec1.2)\n",
    "> #### 1.3 . [Data Preparation for Machine Learning Algorithm](#sec1.2)\n",
    "\n",
    "###  2 . [Graphlab](#sec2)\n",
    "> #### 2.1 . [Introduction to Graphlab](#sec2.1)\n",
    "> #### 2.2 . [Advantages of Graphlab](#sec2.2)\n",
    "> #### 2.3 . [Machine Learning with Graphlab](#sec2.3)\n",
    ">> ##### 2.3.1 . [Load libraries](#sec2.3.1)\n",
    ">> ##### 2.3.2 . [Load data](#sec2.3.2)\n",
    ">> ##### 2.3.3 . [Model building with Machine Learning algorithm](#sec2.3.3)\n",
    ">> ##### 2.3.4 . [Model output with Graphlab](#sec2.3.4)\n",
    ">> ##### 2.3.5 . [Model output with Plotly](#sec2.3.5)\n",
    "\n",
    "###  3 . [References](#sec3)\n",
    "> #### 3.1 . [Historical Stock Prices](#sec3.1)\n",
    "> #### 3.2 . [Graphlab](#sec3.2)"
   ]
  },
  {
   "cell_type": "markdown",
   "metadata": {
    "nbpresent": {
     "id": "5aa7661b-71bc-4cac-a39c-9ac028174ffb"
    }
   },
   "source": [
    "<a id='sec1'></a>\n",
    "## 1. Historical Stock Prices"
   ]
  },
  {
   "cell_type": "markdown",
   "metadata": {},
   "source": [
    "<a id='sec1.1'></a>\n",
    "### 1.1 Introduction to Google Finance"
   ]
  },
  {
   "cell_type": "markdown",
   "metadata": {},
   "source": [
    "<p>There are various APIs that enable extraction of stock prices such as FinancialContent, Yahoo, Google, Investopedia, Quotemedia, MSN, FinData, etc. But for the purpose of our analysis, we needed the stock prices at minute level. GoogleFinance was easier in that aspect compared to the rest of them. </p>\n",
    "\n",
    "<p>Google Finance is a website launched by Google. It provides stock information on many corporations that are publicly listed. It also provides headlines on financial decisions pertaining to the corporations.</p> "
   ]
  },
  {
   "cell_type": "markdown",
   "metadata": {},
   "source": [
    "<a id='sec1.2'></a>\n",
    "### 1.2 Extract Stock Data"
   ]
  },
  {
   "cell_type": "markdown",
   "metadata": {},
   "source": [
    "<p>The below code is used to get the stock prices for a company at minute level. Run this part of the code without any changes.<p>"
   ]
  },
  {
   "cell_type": "code",
   "execution_count": 3,
   "metadata": {
    "collapsed": false,
    "nbpresent": {
     "id": "a604d7dc-6d41-4648-9327-d07dce12fea8"
    }
   },
   "outputs": [],
   "source": [
    "import urllib,time,datetime\n",
    "\n",
    "class Quote(object):\n",
    "  \n",
    "    DATE_FMT = '%Y-%m-%d'\n",
    "    TIME_FMT = '%H:%M:%S'\n",
    "\n",
    "    def __init__(self):\n",
    "        self.symbol = ''\n",
    "        self.date,self.time,self.open_,self.high,self.low,self.close,self.volume = ([] for _ in range(7))\n",
    "\n",
    "    def append(self,dt,open_,high,low,close,volume):\n",
    "        self.date.append(dt.date())\n",
    "        self.time.append(dt.time())\n",
    "        self.open_.append(float(open_))\n",
    "        self.high.append(float(high))\n",
    "        self.low.append(float(low))\n",
    "        self.close.append(float(close))\n",
    "        self.volume.append(int(volume))\n",
    "\n",
    "    def to_csv(self):\n",
    "        return ''.join([\"{0},{1},{2},{3:.2f},{4:.2f},{5:.2f},{6:.2f},{7}\\n\".format(self.symbol,\n",
    "              self.date[bar].strftime('%Y-%m-%d'),self.time[bar].strftime('%H:%M:%S'),\n",
    "              self.open_[bar],self.high[bar],self.low[bar],self.close[bar],self.volume[bar]) \n",
    "              for bar in xrange(len(self.close))])\n",
    "\n",
    "    def write_csv(self,filename):\n",
    "    with open(filename,'w') as f:\n",
    "          f.write(self.to_csv())\n",
    "\n",
    "    def read_csv(self,filename):\n",
    "    self.symbol = ''\n",
    "    self.date,self.time,self.open_,self.high,self.low,self.close,self.volume = ([] for _ in range(7))\n",
    "    for line in open(filename,'r'):\n",
    "        symbol,ds,ts,open_,high,low,close,volume = line.rstrip().split(',')\n",
    "        self.symbol = symbol\n",
    "        dt = datetime.datetime.strptime(ds+' '+ts,self.DATE_FMT+' '+self.TIME_FMT)\n",
    "        self.append(dt,open_,high,low,close,volume)\n",
    "    return True\n",
    "\n",
    "    def __repr__(self):\n",
    "        return self.to_csv()\n",
    "\n",
    "class GoogleIntradayQuote(Quote):\n",
    "    def __init__(self,symbol,interval_seconds=60,num_days=10):\n",
    "    super(GoogleIntradayQuote,self).__init__()\n",
    "    self.symbol = symbol.upper()\n",
    "    url_string = \"http://www.google.com/finance/getprices?q={0}\".format(self.symbol)\n",
    "    url_string += \"&i={0}&p={1}d&f=d,o,h,l,c,v\".format(interval_seconds,num_days)\n",
    "    csv = urllib.urlopen(url_string).readlines()\n",
    "    for bar in xrange(7,len(csv)):\n",
    "        if csv[bar].count(',')!=5: continue\n",
    "        offset,close,high,low,open_,volume = csv[bar].split(',')\n",
    "        if offset[0]=='a':\n",
    "            day = float(offset[1:])\n",
    "            offset = 0\n",
    "        else:\n",
    "            offset = float(offset)\n",
    "        open_,high,low,close = [float(x) for x in [open_,high,low,close]]\n",
    "        dt = datetime.datetime.fromtimestamp(day+(interval_seconds*offset))\n",
    "        self.append(dt,open_,high,low,close,volume) "
   ]
  },
  {
   "cell_type": "markdown",
   "metadata": {},
   "source": [
    "<p> The above part creates classes and objects to connect to Google Finance, extract data at the level specified and saves it in a csv file. To get the historical stock prices for a company, say Target, run the below code with it's name as listed and interval between the records. Here we want data at minute level, so the interval is 60, which means 60 seconds.<p> "
   ]
  },
  {
   "cell_type": "code",
   "execution_count": null,
   "metadata": {
    "collapsed": true
   },
   "outputs": [],
   "source": [
    "if __name__ == '__main__':\n",
    "    q = GoogleIntradayQuote('TGT',60,10)\n",
    "    q.write_csv('target_stock.csv')"
   ]
  },
  {
   "cell_type": "markdown",
   "metadata": {},
   "source": [
    "<p>This creates a csv file by the name specified at the location where the code is saved and run from.<p>"
   ]
  },
  {
   "cell_type": "markdown",
   "metadata": {
    "nbpresent": {
     "id": "20d9aa71-cfde-4fbb-b7c1-8899a65a794e"
    }
   },
   "source": [
    "<a id='sec1.3'></a>\n",
    "### 1.3 Data Preparation for Machine Learning Algorithm"
   ]
  },
  {
   "cell_type": "markdown",
   "metadata": {
    "nbpresent": {
     "id": "99f42b65-1948-4352-8aad-0f2c06ea2d3a"
    }
   },
   "source": [
    "<p>The data thus extracted from Google Finance is then merged with the sentiment score calculated at minute level with the tweets drawn from twitter for the company at minute level.\n",
    "\n",
    "The merged dataset has the following columns,\n",
    "\n",
    "<ul>\n",
    "    <li>Date, Time (in minute intervals)</li> \n",
    "    <li>Open, High, Low and Close Prices for the company</li>\n",
    "    <li>Volume shares for the company</li>\n",
    "    <li>Sentiment scores - Positive, negative, neutral and complete scores</li>\n",
    "</ul>\n",
    "\n",
    "<p>To account for the sentiment scores that are not available for every minute, an average of the last 5 minutes of the sentiment score of imputed in cases of missing values.\n",
    "\n",
    "Also the price and sentiment additional features or attributes are created in order to hold the average of last 2 minutes, 3 minutes, 4 minutes and 5 minutes prices and sentiment scores.\n",
    "\n",
    "The final dataset will thus hold the following columns,<p>\n",
    "\n",
    "<ul>\n",
    "    <li>Date, Time (in minute intervals)</li> \n",
    "    <li>Open, High, Low and Close Prices for the company</li>\n",
    "    <li>Volume shares for the company</li>\n",
    "    <li>Imputed Sentiment scores - Positive, negative, neutral and complete scores - no missing values</li>\n",
    "    <li>Average Prices - last 2 minutes, last 3 minutes, last 4 minutes and last 5 minutes</li>\n",
    "    <li>Average Sentiment Scores - last 2 minutes, last 3 minutes, last 4 minutes and last 5 minutes</li>\n",
    "</ul>\n"
   ]
  },
  {
   "cell_type": "markdown",
   "metadata": {},
   "source": [
    "# <div align=\"center\"> Part 4 : Using graphlab to train and test the regression model</div>"
   ]
  },
  {
   "cell_type": "markdown",
   "metadata": {
    "nbpresent": {
     "id": "08044fc3-0402-47ec-b383-ee145fa6fff5"
    }
   },
   "source": [
    "<a id='sec2'></a>\n",
    "## 2. Graphlab"
   ]
  },
  {
   "cell_type": "markdown",
   "metadata": {},
   "source": [
    "<a id='sec2.1'></a>\n",
    "### 2.1 Introduction to Graphlab"
   ]
  },
  {
   "cell_type": "markdown",
   "metadata": {},
   "source": [
    "<p>GraphLab Create is an extensible machine learning framework that enables developers and data scientists to easily build and deploy intelligent applications and services at scale. It includes distributed data structures and rich libraries for data transformation and manipulation, scalable task-oriented machine learning toolkits for creating, evaluating, and improving machine learning models, data and model visualization for all aspects of development, and a client to define and deploy both distributed batch jobs to Turi Distributed as well as real-time machine learning services to Turi Predictive Service. It is designed for end-to-end developer productivity, scale, and the variety and complexity of real-world data.<p>\n",
    "\n",
    "<p>Turi is a graph-based, high performance, distributed computation framework written in C++. The GraphLab project was started by Prof. Carlos Guestrin of Carnegie Mellon University in 2009. It is an open source project using an Apache License. While GraphLab was originally developed for Machine Learning tasks, it has found great success at a broad range of other data-mining tasks; out-performing other abstractions by orders of magnitude.<p>\n",
    "\n",
    "<p>Main features of GraphLab are:<p>\n",
    "<ul>\n",
    "    <li>A unified multicore and distributed API: write once run efficiently in both shared and distributed memory systems</li>\n",
    "    <li>Tuned for performance: optimized C++ execution engine leverages extensive multi-threading and asynchronous IO</li>\n",
    "    <li>Scalable: GraphLab intelligently places data and computation using sophisticated new algorithms</li>\n",
    "    <li>HDFS Integration</li>\n",
    "    <li>Powerful Machine Learning Toolkits</li>\n",
    "</ul>"
   ]
  },
  {
   "cell_type": "markdown",
   "metadata": {
    "nbpresent": {
     "id": "816d811a-6d1a-480c-95c0-3b75f39a01fd"
    }
   },
   "source": [
    "<a id='sec2.2'></a>\n",
    "### 2.2 Advantages of Graphlab"
   ]
  },
  {
   "cell_type": "markdown",
   "metadata": {},
   "source": [
    "As the amounts of collected data and computing power grows (multicore, GPUs, clusters, clouds), modern datasets no longer fit into one computing node. Efficient distributed/parallel algorithms for handling large scale data are required. The GraphLab framework is a parallel programming abstraction targeted for sparse iterative graph algorithms. GraphLab provides a high level programming interface, allowing a rapid deployment of distributed machine learning algorithms. \n",
    "\n",
    "<p>The main design considerations behind the design of GraphLab are:<p>\n",
    "<ul>\n",
    "    <li>Sparse data with local dependencies</li>\n",
    "    <li>Iterative algorithms</li>\n",
    "    <li>Potentially asynchronous execution</li>\n",
    "</ul>\n",
    "\n",
    "<p>The major advantages of GraphLab include:<p>\n",
    "<ul>\n",
    "    <li><i>Create Sophisticated Models</i> - Includes implementations for deep learning, ranking-optimized factorization machines, topic modeling, graph analytics, linear models, clustering, and nearest neighbors. Then go as deep as you need, tuning exposed hyperparameters to customize your models.</li>\n",
    "    \n",
    "    <li><i>Scaling</i> - Interact with terabytes of data, blazingly fast, even on a laptop. SFrame, the out of core tabular data structure is columnar, distributed, and on-disk making is the most scalable data frame built for machine learning.</li>\n",
    "    \n",
    "    <li><i>Deployment</i> - Deployment clients for Turi Predictive Services and Distributed are included. Same code deploys on remote environments as a distributed batch job or as services. Eliminate the lengthy rewrites.</li>\n",
    "    \n",
    "    <li><i>Visualization</i> - GraphLab Create’s visualization “Canvas” provides exploration and visualization of big data and sophisticated machine learning models. This helps to explain results easily.</li>\n",
    "    \n",
    "    <li><i>Extension</i> - API is extensible in multiple ways. With this can implement data parallel and graph parallel algorithms as UDFs in Python or build customized efficient algorithms using the C++ SDK. Implement your own scalable brilliance.</li>\n",
    "</ul>   \n",
    "\n",
    "<i>What can we get in Graphlab that is not in scikit-learn, R, or similar already?</i>\n",
    "\n",
    "<p>Scikit-learn and R are great broad libraries. GraphLab Create has some of the same algorithms and functionality as these libraries. The major difference is that GraphLab Create uses the SFrame which is a highly scalable and performant data structure which makes many operations and algorithms much much faster. The SFrame is also out-of-core which means you can scale to big data even on a laptop. Beyond speed and scalability, GraphLab Create is designed around application oriented toolkits that contain the most sophisticated algorithms like factorization machines, deep learning, etc.<p>\n"
   ]
  },
  {
   "cell_type": "markdown",
   "metadata": {
    "nbpresent": {
     "id": "be8f5336-c477-4d9b-8bd3-3a2c3c9369fe"
    }
   },
   "source": [
    "<a id='sec2.3'></a>\n",
    "### 2.3 Machine Learning with Graphlab"
   ]
  },
  {
   "cell_type": "markdown",
   "metadata": {},
   "source": [
    "<a id='sec2.3.1'></a>\n",
    "#### 2.3.1 Loading libraries"
   ]
  },
  {
   "cell_type": "code",
   "execution_count": 7,
   "metadata": {
    "collapsed": true
   },
   "outputs": [],
   "source": [
    "%matplotlib inline\n",
    "import matplotlib.pyplot as plt\n",
    "import graphlab as gl\n",
    "import plotly.plotly as py\n",
    "import plotly.graph_objs as go\n",
    "import numpy as np"
   ]
  },
  {
   "cell_type": "markdown",
   "metadata": {},
   "source": [
    "<a id='sec2.3.2'></a>\n",
    "#### 2.3.2 Loading data"
   ]
  },
  {
   "cell_type": "code",
   "execution_count": 4,
   "metadata": {
    "collapsed": false
   },
   "outputs": [
    {
     "name": "stderr",
     "output_type": "stream",
     "text": [
      "[INFO] graphlab.cython.cy_server: GraphLab Create v2.1 started. Logging: C:\\Users\\Lavanya\\AppData\\Local\\Temp\\graphlab_server_1481497574.log.0\n"
     ]
    },
    {
     "name": "stdout",
     "output_type": "stream",
     "text": [
      "This non-commercial license of GraphLab Create for academic use is assigned to basav015@umn.edu and will expire on December 10, 2017.\n"
     ]
    },
    {
     "data": {
      "text/html": [
       "<pre>Finished parsing file C:\\Users\\Lavanya\\Google Drive\\Big Data Project\\Codes\\target_tweets_score_final_data.csv</pre>"
      ],
      "text/plain": [
       "Finished parsing file C:\\Users\\Lavanya\\Google Drive\\Big Data Project\\Codes\\target_tweets_score_final_data.csv"
      ]
     },
     "metadata": {},
     "output_type": "display_data"
    },
    {
     "data": {
      "text/html": [
       "<pre>Parsing completed. Parsed 100 lines in 0.025645 secs.</pre>"
      ],
      "text/plain": [
       "Parsing completed. Parsed 100 lines in 0.025645 secs."
      ]
     },
     "metadata": {},
     "output_type": "display_data"
    },
    {
     "data": {
      "text/html": [
       "<pre>Finished parsing file C:\\Users\\Lavanya\\Google Drive\\Big Data Project\\Codes\\target_tweets_score_final_data.csv</pre>"
      ],
      "text/plain": [
       "Finished parsing file C:\\Users\\Lavanya\\Google Drive\\Big Data Project\\Codes\\target_tweets_score_final_data.csv"
      ]
     },
     "metadata": {},
     "output_type": "display_data"
    },
    {
     "data": {
      "text/html": [
       "<pre>Parsing completed. Parsed 1558 lines in 0.024067 secs.</pre>"
      ],
      "text/plain": [
       "Parsing completed. Parsed 1558 lines in 0.024067 secs."
      ]
     },
     "metadata": {},
     "output_type": "display_data"
    }
   ],
   "source": [
    "url = 'C:/Users/Lavanya/Google Drive/Big Data Project/Codes/target_tweets_score_final_data.csv'\n",
    "data = gl.SFrame.read_csv(url, header= True, \n",
    "                            column_type_hints={\n",
    "                                 'Date': str, 'Time': str, 'Seq': int, 'SeqSq': int, 'Open': float, 'High': float, \n",
    "        'Low': float, 'Price': float, 'Volume': float, 'log_Open': float, 'log_High': float, 'log_Low': float, \n",
    "        'log_Price': float, 'log_Volume': float, 'lag_1_Price': float, 'lag_2_Price': float, 'lag_3_Price': float,\n",
    "        'lag_4_Price': float, 'lag_5_Price': float, 'log_lag_1_Price': float, 'log_lag_2_Price': float, \n",
    "        'log_lag_3_Price': float, 'log_lag_4_Price': float, 'log_lag_5_Price': float, 'final_com_score': float, \n",
    "        'final_pos_score': float, 'final_neu_score': float, 'final_neg_score': float, 'lag_1_final_com_score': float, \n",
    "        'lag_1_final_pos_score': float, 'lag_1_final_neu_score': float, 'lag_1_final_neg_score': float, \n",
    "        'lag_2_final_com_score': float, 'lag_2_final_pos_score': float, 'lag_2_final_neu_score': float, \n",
    "        'lag_2_final_neg_score': float, 'lag_3_final_com_score': float, 'lag_3_final_pos_score': float, \n",
    "        'lag_3_final_neu_score': float, 'lag_3_final_neg_score': float, 'lag_4_final_com_score': float, \n",
    "        'lag_4_final_pos_score': float, 'lag_4_final_neu_score': float, 'lag_4_final_neg_score': float, \n",
    "        'lag_5_final_com_score': float, 'lag_5_final_pos_score': float, 'lag_5_final_neu_score': float,\n",
    "        'lag_5_final_neg_score': float\n",
    "    })"
   ]
  },
  {
   "cell_type": "markdown",
   "metadata": {},
   "source": [
    "<a id='sec2.3.3'></a>\n",
    "#### 2.3.3 Model building with Machine Learning algorithm"
   ]
  },
  {
   "cell_type": "code",
   "execution_count": 5,
   "metadata": {
    "collapsed": false
   },
   "outputs": [
    {
     "name": "stdout",
     "output_type": "stream",
     "text": [
      "PROGRESS: Creating a validation set from 5 percent of training data. This may take a while.\n",
      "          You can set ``validation_set=None`` to disable validation tracking.\n",
      "\n"
     ]
    },
    {
     "data": {
      "text/html": [
       "<pre>Linear regression:</pre>"
      ],
      "text/plain": [
       "Linear regression:"
      ]
     },
     "metadata": {},
     "output_type": "display_data"
    },
    {
     "data": {
      "text/html": [
       "<pre>--------------------------------------------------------</pre>"
      ],
      "text/plain": [
       "--------------------------------------------------------"
      ]
     },
     "metadata": {},
     "output_type": "display_data"
    },
    {
     "data": {
      "text/html": [
       "<pre>Number of examples          : 1462</pre>"
      ],
      "text/plain": [
       "Number of examples          : 1462"
      ]
     },
     "metadata": {},
     "output_type": "display_data"
    },
    {
     "data": {
      "text/html": [
       "<pre>Number of features          : 2</pre>"
      ],
      "text/plain": [
       "Number of features          : 2"
      ]
     },
     "metadata": {},
     "output_type": "display_data"
    },
    {
     "data": {
      "text/html": [
       "<pre>Number of unpacked features : 2</pre>"
      ],
      "text/plain": [
       "Number of unpacked features : 2"
      ]
     },
     "metadata": {},
     "output_type": "display_data"
    },
    {
     "data": {
      "text/html": [
       "<pre>Number of coefficients    : 3</pre>"
      ],
      "text/plain": [
       "Number of coefficients    : 3"
      ]
     },
     "metadata": {},
     "output_type": "display_data"
    },
    {
     "data": {
      "text/html": [
       "<pre>Starting Newton Method</pre>"
      ],
      "text/plain": [
       "Starting Newton Method"
      ]
     },
     "metadata": {},
     "output_type": "display_data"
    },
    {
     "data": {
      "text/html": [
       "<pre>--------------------------------------------------------</pre>"
      ],
      "text/plain": [
       "--------------------------------------------------------"
      ]
     },
     "metadata": {},
     "output_type": "display_data"
    },
    {
     "data": {
      "text/html": [
       "<pre>+-----------+----------+--------------+--------------------+----------------------+---------------+-----------------+</pre>"
      ],
      "text/plain": [
       "+-----------+----------+--------------+--------------------+----------------------+---------------+-----------------+"
      ]
     },
     "metadata": {},
     "output_type": "display_data"
    },
    {
     "data": {
      "text/html": [
       "<pre>| Iteration | Passes   | Elapsed Time | Training-max_error | Validation-max_error | Training-rmse | Validation-rmse |</pre>"
      ],
      "text/plain": [
       "| Iteration | Passes   | Elapsed Time | Training-max_error | Validation-max_error | Training-rmse | Validation-rmse |"
      ]
     },
     "metadata": {},
     "output_type": "display_data"
    },
    {
     "data": {
      "text/html": [
       "<pre>+-----------+----------+--------------+--------------------+----------------------+---------------+-----------------+</pre>"
      ],
      "text/plain": [
       "+-----------+----------+--------------+--------------------+----------------------+---------------+-----------------+"
      ]
     },
     "metadata": {},
     "output_type": "display_data"
    },
    {
     "data": {
      "text/html": [
       "<pre>| 1         | 2        | 1.007013     | 0.841045           | 0.368150             | 0.124254      | 0.134808        |</pre>"
      ],
      "text/plain": [
       "| 1         | 2        | 1.007013     | 0.841045           | 0.368150             | 0.124254      | 0.134808        |"
      ]
     },
     "metadata": {},
     "output_type": "display_data"
    },
    {
     "data": {
      "text/html": [
       "<pre>+-----------+----------+--------------+--------------------+----------------------+---------------+-----------------+</pre>"
      ],
      "text/plain": [
       "+-----------+----------+--------------+--------------------+----------------------+---------------+-----------------+"
      ]
     },
     "metadata": {},
     "output_type": "display_data"
    },
    {
     "data": {
      "text/html": [
       "<pre>SUCCESS: Optimal solution found.</pre>"
      ],
      "text/plain": [
       "SUCCESS: Optimal solution found."
      ]
     },
     "metadata": {},
     "output_type": "display_data"
    },
    {
     "data": {
      "text/html": [
       "<pre></pre>"
      ],
      "text/plain": []
     },
     "metadata": {},
     "output_type": "display_data"
    }
   ],
   "source": [
    "model = gl.linear_regression.create(data, target='Price', features=['lag_5_Price', 'lag_5_final_com_score'])"
   ]
  },
  {
   "cell_type": "markdown",
   "metadata": {},
   "source": [
    "<a id='sec2.3.4'></a>\n",
    "#### 2.3.4 Model output with Graphlab"
   ]
  },
  {
   "cell_type": "code",
   "execution_count": 6,
   "metadata": {
    "collapsed": false
   },
   "outputs": [
    {
     "name": "stdout",
     "output_type": "stream",
     "text": [
      "Class                          : LinearRegression\n",
      "\n",
      "Schema\n",
      "------\n",
      "Number of coefficients         : 3\n",
      "Number of examples             : 1462\n",
      "Number of feature columns      : 2\n",
      "Number of unpacked features    : 2\n",
      "\n",
      "Hyperparameters\n",
      "---------------\n",
      "L1 penalty                     : 0.0\n",
      "L2 penalty                     : 0.01\n",
      "\n",
      "Training Summary\n",
      "----------------\n",
      "Solver                         : newton\n",
      "Solver iterations              : 1\n",
      "Solver status                  : SUCCESS: Optimal solution found.\n",
      "Training time (sec)            : 1.013\n",
      "\n",
      "Settings\n",
      "--------\n",
      "Residual sum of squares        : 22.5719\n",
      "Training RMSE                  : 0.1243\n",
      "\n",
      "Highest Positive Coefficients\n",
      "-----------------------------\n",
      "(intercept)                    : 10.9291\n",
      "lag_5_Price                    : 0.8589\n",
      "\n",
      "Lowest Negative Coefficients\n",
      "----------------------------\n",
      "lag_5_final_com_score          : -0.0328\n",
      "\n"
     ]
    },
    {
     "data": {
      "text/html": [
       "<div style=\"max-height:1000px;max-width:1500px;overflow:auto;\"><table frame=\"box\" rules=\"cols\">\n",
       "    <tr>\n",
       "        <th style=\"padding-left: 1em; padding-right: 1em; text-align: center\">name</th>\n",
       "        <th style=\"padding-left: 1em; padding-right: 1em; text-align: center\">index</th>\n",
       "        <th style=\"padding-left: 1em; padding-right: 1em; text-align: center\">value</th>\n",
       "        <th style=\"padding-left: 1em; padding-right: 1em; text-align: center\">stderr</th>\n",
       "    </tr>\n",
       "    <tr>\n",
       "        <td style=\"padding-left: 1em; padding-right: 1em; text-align: center; vertical-align: top\">(intercept)</td>\n",
       "        <td style=\"padding-left: 1em; padding-right: 1em; text-align: center; vertical-align: top\">None</td>\n",
       "        <td style=\"padding-left: 1em; padding-right: 1em; text-align: center; vertical-align: top\">10.9290742935</td>\n",
       "        <td style=\"padding-left: 1em; padding-right: 1em; text-align: center; vertical-align: top\">0.463025621231</td>\n",
       "    </tr>\n",
       "    <tr>\n",
       "        <td style=\"padding-left: 1em; padding-right: 1em; text-align: center; vertical-align: top\">lag_5_Price</td>\n",
       "        <td style=\"padding-left: 1em; padding-right: 1em; text-align: center; vertical-align: top\">None</td>\n",
       "        <td style=\"padding-left: 1em; padding-right: 1em; text-align: center; vertical-align: top\">0.858887849149</td>\n",
       "        <td style=\"padding-left: 1em; padding-right: 1em; text-align: center; vertical-align: top\">0.00599192625173</td>\n",
       "    </tr>\n",
       "    <tr>\n",
       "        <td style=\"padding-left: 1em; padding-right: 1em; text-align: center; vertical-align: top\">lag_5_final_com_score</td>\n",
       "        <td style=\"padding-left: 1em; padding-right: 1em; text-align: center; vertical-align: top\">None</td>\n",
       "        <td style=\"padding-left: 1em; padding-right: 1em; text-align: center; vertical-align: top\">-0.0328283304817</td>\n",
       "        <td style=\"padding-left: 1em; padding-right: 1em; text-align: center; vertical-align: top\">0.011177279447</td>\n",
       "    </tr>\n",
       "</table>\n",
       "[3 rows x 4 columns]<br/>\n",
       "</div>"
      ],
      "text/plain": [
       "Columns:\n",
       "\tname\tstr\n",
       "\tindex\tstr\n",
       "\tvalue\tfloat\n",
       "\tstderr\tfloat\n",
       "\n",
       "Rows: 3\n",
       "\n",
       "Data:\n",
       "+-----------------------+-------+------------------+------------------+\n",
       "|          name         | index |      value       |      stderr      |\n",
       "+-----------------------+-------+------------------+------------------+\n",
       "|      (intercept)      |  None |  10.9290742935   |  0.463025621231  |\n",
       "|      lag_5_Price      |  None |  0.858887849149  | 0.00599192625173 |\n",
       "| lag_5_final_com_score |  None | -0.0328283304817 |  0.011177279447  |\n",
       "+-----------------------+-------+------------------+------------------+\n",
       "[3 rows x 4 columns]"
      ]
     },
     "execution_count": 6,
     "metadata": {},
     "output_type": "execute_result"
    },
    {
     "data": {
      "image/png": "[encoded data removed]",
      "text/plain": [
       "<matplotlib.figure.Figure at 0x800c438>"
      ]
     },
     "metadata": {},
     "output_type": "display_data"
    }
   ],
   "source": [
    "# Make predictions and evaluate results.\n",
    "predictions = model.predict(data)\n",
    "results = model.evaluate(data)\n",
    "# plot\n",
    "plt.plot(data['Price'], label = \"Actual\", color='blue', linestyle='-')\n",
    "plt.plot(predictions, label = \"Predictions\", color='red', linestyle='-')\n",
    "plt.title('Actual vs predicted Stock Price Target')\n",
    "plt.ylabel('Stock Price - Target')\n",
    "plt.xlabel('Date - Every Minute')\n",
    "model.summary()\n",
    "model['coefficients']"
   ]
  },
  {
   "cell_type": "markdown",
   "metadata": {},
   "source": [
    "<a id='sec2.3.5'></a>\n",
    "#### 2.3.5 Model output with Plotly"
   ]
  },
  {
   "cell_type": "code",
   "execution_count": 9,
   "metadata": {
    "collapsed": false
   },
   "outputs": [
    {
     "data": {
      "text/html": [
       "<iframe id=\"igraph\" scrolling=\"no\" style=\"border:none;\" seamless=\"seamless\" src=\"https://plot.ly/~suryak1210/88.embed\" height=\"525px\" width=\"100%\"></iframe>"
      ],
      "text/plain": [
       "<plotly.tools.PlotlyDisplay object>"
      ]
     },
     "execution_count": 9,
     "metadata": {},
     "output_type": "execute_result"
    }
   ],
   "source": [
    "trace1 = go.Scatter(\n",
    "            x= np.arange(1,len(data['Price'])-1),\n",
    "            y= list(data['Price']),\n",
    "            name = \"Actual\")\n",
    "trace2 = go.Scatter(\n",
    "            x= np.arange(1,len(predictions)),\n",
    "            y= list(predictions),\n",
    "            name = \"Predicted\")\n",
    "plot_data = [trace1,trace2]\n",
    "\n",
    "layout = go.Layout(\n",
    "    title='Target Stock Price',\n",
    "    xaxis=dict(title='Minute time intervals'),\n",
    "    yaxis=dict(title='Stock price'))\n",
    "fig = go.Figure(data=plot_data, layout=layout)\n",
    "py.iplot(fig, filename='Regression-model')"
   ]
  },
  {
   "cell_type": "markdown",
   "metadata": {},
   "source": [
    "<a id='sec3'></a>\n",
    "## 3. References"
   ]
  },
  {
   "cell_type": "markdown",
   "metadata": {},
   "source": [
    "<a id='sec3.1'></a>\n",
    "### 3.1 Historical Stock Prices"
   ]
  },
  {
   "cell_type": "markdown",
   "metadata": {},
   "source": [
    "<p>Below are the references used for the section on historical stock prices,</p>\n",
    "\n",
    "<ul>\n",
    "    <li><i>http://www.google.com/finance/getprices</i></li> \n",
    "    <li><i>https://en.wikipedia.org/wiki/Google_Finance</i></li>\n",
    "    <li><i>https://trading.cheno.net/downloading-google-intraday-historical-data-with-python/</i></li>\n",
    "</ul>"
   ]
  },
  {
   "cell_type": "markdown",
   "metadata": {},
   "source": [
    "<a id='sec3.2'></a>\n",
    "### 3.2 Graphlab"
   ]
  },
  {
   "cell_type": "markdown",
   "metadata": {},
   "source": [
    "<p>Below are the references used for the section on Graphlab,</p>\n",
    "\n",
    "<ul>\n",
    "    <li><i>https://en.wikipedia.org/wiki/GraphLab</i></li> \n",
    "    <li><i>https://turi.com/products/create/</i></li>\n",
    "    <li><i>https://turi.com/products/create/docs/graphlab.toolkits.regression.html</i></li>\n",
    "</ul>"
   ]
  }
 ],
 "metadata": {
  "anaconda-cloud": {},
  "kernelspec": {
   "display_name": "Python [conda root]",
   "language": "python",
   "name": "conda-root-py"
  },
  "language_info": {
   "codemirror_mode": {
    "name": "ipython",
    "version": 3
   },
   "file_extension": ".py",
   "mimetype": "text/x-python",
   "name": "python",
   "nbconvert_exporter": "python",
   "pygments_lexer": "ipython3",
   "version": "3.5.2"
  },
  "nbpresent": {
   "slides": {},
   "themes": {
    "default": "391d9558-9d29-4c22-97b9-784b4d153c1e",
    "theme": {}
   }
  }
 },
 "nbformat": 4,
 "nbformat_minor": 1
}
