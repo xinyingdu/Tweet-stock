{
 "cells": [
  {
   "cell_type": "code",
   "execution_count": null,
   "metadata": {
    "collapsed": true
   },
   "outputs": [],
   "source": [
    "import tweepy\n",
    "from tweepy import OAuthHandler\n",
    "from tweepy import Stream\n",
    "from tweepy.streaming import StreamListener\n",
    "import socket\n",
    "import json\n",
    "\n",
    "\n",
    "#config twitter API credential here\n",
    "access_token = \"792965596438593536-4tBidwxzsZ0ZYqBPs0XpCdIznvnLoQH\"\n",
    "access_secret = \"DXG2tqgIIuc6zZozlNf4vCwv5dGbgSWzqEtaP16vIFtf7\"\n",
    "consumer_key = \"gee4sp3swLjP8Xcruyd0ARXv9\"\n",
    "consumer_secret = \"08KFvlPIF7NPvmABUZVPIDVPWrWeoybYqvPbIlNWEOIJbHjszr\""
   ]
  },
  {
   "cell_type": "code",
   "execution_count": null,
   "metadata": {
    "collapsed": false,
    "scrolled": true
   },
   "outputs": [
    {
     "name": "stdout",
     "output_type": "stream",
     "text": [
      "Listening on port: 5555\n",
      "Received request from: ('127.0.0.1', 53300)\n",
      "b'Check out Bild  Hummer auf Teller  Originalgm\\xc3\\xa4lde Neuware  auf K\\xc3\\xbcnstlerleinwand  https://t.co/qDunCBm2zX via @eBay'\n",
      "b'Check out 2CT Amethyst &amp; White Topaz 100% 925 Solid Genuine Sterling Silver Ring Sz 7 #LJ https://t.co/KR37EyKDFd via @eBay'\n",
      "b\"Check out Nature's Best Perfect Isopure Meal Replacement 20-40 or 60 packets Get it fast  https://t.co/NhbwBVEYsI via @eBay\"\n",
      "b'RT @LifeUnsorted: Check out Copper and Tan Glass Pearl Earrings, Handmade #Handmade #DropDangle https://t.co/HElcvkGqQG via @eBay'\n",
      "b'Check out 100 CTs 100% NATURAL VIOLET BLUE TANZANITE FACETED ROCK ROUGH TANZANIA GEMSTONES  https://t.co/vuGIc0ljel via @eBay'\n",
      "b'Check out vtg HOME INTERIOR BALLOON wall plaque HOMCO 1986 BURWOOD baby children nursery  https://t.co/CkSRyUCips via @eBay'\n",
      "b'Check out Saint St. Francis Statue Figurine - Patron of Animals &amp; Peace - 12\"H - MT391   https://t.co/E4FDRkH0um via @eBay'\n",
      "b'Check out WOMENS UNDER ARMOUR HEATGEAR FITTED XL TOP\\xc2\\xa0NWT #UnderArmour https://t.co/gVUTwAB21k via @eBay'\n",
      "b'Check out CRAZY TRAIN Black/Red/Brown  Leopard Tennis Shoes Brand New In Box So Glam Size  #Tennis https://t.co/slTXg6qy7G via @eBay'\n",
      "b'Check out Disney The Lion King Simba Nala Sweetheart Kissing Plush Stuffed Set 1993 Gift #Disney https://t.co/xtXlgaw56a via @eBay'\n",
      "b'Snowman\\nhttps://t.co/557RxfFScT via @eBay\\n#Christmas #Snowman #Glass #ThomasPacconi #Pacconi #Snowman #Xmas #SnowmanOrnament #SnowmanStatue'\n",
      "b'Check out guitarsArt print on semi gloss photo paper 13 x 19 unmatted and unframed   https://t.co/Ph2cfnpsnW via @eBay'\n",
      "b'Check out Star Wars Yoda Whiteboard Dry Erase NWT https://t.co/fK9icGFc0n @eBay #yoda'\n",
      "b'RT @knlcollectnsel1: Check out Decorative Santa Clause Tea Pot as a Chef Baker with Ginger Bread House  https://t.co/5QDOQctL22 via @eBay'\n",
      "b'Check out 5.50 CT NATURAL BLUE STAR SAPPHIRE 6 RAYS OVAL CABOCHON RING SIZE LOOSE GEMSTONE  https://t.co/oS7tAgqkHe via @eBay'\n",
      "b'Check out SILVER BRAND FRANCES Low Rise Boot Cut Stretch Jeans Sz 30 W 32 x L 31 #SilverJeans https://t.co/BVxP5wKaYM via @eBay'\n",
      "b'RT @LifeUnsorted: Check out Lavender and Purple Glass Pearl Earrings, Handmade #Handmade #DropDangle https://t.co/ZlbHa1T95x via @eBay'\n",
      "b'Check out Catholic Marian Rosary - 3 PACK - 22.5\"L - 2\"H Crucifix - Gift Boxed - WC720  https://t.co/Do1ki8M3WS via @eBay'\n",
      "b'@DarrenArsenal1 @eBay missing 86-88'\n",
      "b'Check out Crazy Train Leopard Print Palazzo Pants Red  Trim Size Small (2) Len #CrazyTrain https://t.co/LPo1y1oWiw via @eBay'\n",
      "b'Check out Star Wars StorM Trooper Whiteboard Dry Erase NWT https://t.co/Ef05NcyTwu @eBay #stormtrooper'\n",
      "b'Check out Handcrafted cement blue bird garden figure/statue Yard art indoor/outdoor  https://t.co/2h7nO7JZ46 via @eBay'\n"
     ]
    }
   ],
   "source": [
    "class TweetsListener(StreamListener):\n",
    "\n",
    "  def __init__(self, csocket):\n",
    "      self.client_socket = csocket\n",
    "\n",
    "  def on_data(self, data):\n",
    "      try:\n",
    "          msg = json.loads(data)\n",
    "          print(msg['text'].encode('utf-8'))\n",
    "          self.client_socket.send(msg['text'].encode('utf-8'))\n",
    "          return True\n",
    "      except BaseException as e:\n",
    "          print(\"Error on_data: %s\" % str(e))\n",
    "      except:\n",
    "          self.sock.close()\n",
    "      return True\n",
    "      \n",
    "\n",
    "  def on_error(self, status):\n",
    "      print(status)\n",
    "      return True\n",
    "\n",
    "def sendData(c_socket):\n",
    "  auth = OAuthHandler(consumer_key, consumer_secret)\n",
    "  auth.set_access_token(access_token, access_secret)\n",
    "\n",
    "  twitter_stream = Stream(auth, TweetsListener(c_socket))\n",
    "  twitter_stream.filter(track=['@ebay'])\n",
    "\n",
    "if __name__ == \"__main__\":\n",
    "  s = socket.socket()         # Create a socket object\n",
    "  host = \"localhost\"      # Get local machine name\n",
    "  port = 5555                 # Reserve a port for your service.\n",
    "  s.bind((host, port))        # Bind to the port\n",
    "\n",
    "  print(\"Listening on port: %s\" % str(port))\n",
    "\n",
    "  s.listen(5)                 # Now wait for client connection.\n",
    "  c, addr = s.accept()        # Establish connection with client.\n",
    "\n",
    "  print( \"Received request from: \" + str( addr ) )\n",
    "\n",
    "  sendData( c )\n"
   ]
  },
  {
   "cell_type": "code",
   "execution_count": null,
   "metadata": {
    "collapsed": true
   },
   "outputs": [],
   "source": []
  }
 ],
 "metadata": {
  "anaconda-cloud": {},
  "kernelspec": {
   "display_name": "Python [conda root]",
   "language": "python",
   "name": "conda-root-py"
  },
  "language_info": {
   "codemirror_mode": {
    "name": "ipython",
    "version": 3
   },
   "file_extension": ".py",
   "mimetype": "text/x-python",
   "name": "python",
   "nbconvert_exporter": "python",
   "pygments_lexer": "ipython3",
   "version": "3.5.2"
  }
 },
 "nbformat": 4,
 "nbformat_minor": 1
}
